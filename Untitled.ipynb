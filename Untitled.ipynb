{
 "cells": [
  {
   "cell_type": "code",
   "execution_count": 1,
   "id": "2feb083c-f478-4d73-bd58-a3ccea5f0ad8",
   "metadata": {},
   "outputs": [],
   "source": [
    "import cv2"
   ]
  },
  {
   "cell_type": "code",
   "execution_count": 16,
   "id": "b16cfcfe-5001-416b-8526-8a899002d506",
   "metadata": {},
   "outputs": [],
   "source": [
    "img = cv2.imread('Mikasa.jpeg')\n",
    "cv2.imshow('original',img)\n",
    "\n",
    "bgr2hsv = cv2.cvtColor(img,cv2.COLOR_BGR2HSV)\n",
    "cv2.imshow('BGR To HSV',bgr2hsv)\n",
    "bgr2gray = cv2.cvtColor(img,cv2.COLOR_BGR2GRAY)\n",
    "cv2.imshow('BGR To GRAY',bgr2gray)\n",
    "\n",
    "cv2.imwrite('BGRtoHSV.png',bgr2hsv)\n",
    "cv2.imwrite('BGRtoGRAY.png',bgr2gray)\n",
    "\n",
    "cv2.waitKey(0)\n",
    "cv2.destroyAllWindows()"
   ]
  },
  {
   "cell_type": "code",
   "execution_count": 15,
   "id": "b64ea94f-2792-4630-ba50-1c68a0f69a82",
   "metadata": {},
   "outputs": [],
   "source": [
    "cv2.imshow('original',img)\n",
    "img_rgb = cv2.cvtColor(img,cv2.COLOR_BGR2RGB)\n",
    "\n",
    "rgb2hsv = cv2.cvtColor(img_rgb,cv2.COLOR_RGB2HSV)\n",
    "cv2.imshow('RGB2HSV',rgb2hsv)\n",
    "\n",
    "rgb2gray = cv2.cvtColor(img_rgb,cv2.COLOR_RGB2GRAY)\n",
    "cv2.imshow('RGB2GRAY',rgb2gray)\n",
    "\n",
    "cv2.imwrite('RGBtoHSV.png',rgb2hsv)\n",
    "cv2.imwrite('RGBtoGRAY.png',rgb2gray)\n",
    "\n",
    "cv2.waitKey(0)\n",
    "cv2.destroyAllWindows()"
   ]
  },
  {
   "cell_type": "code",
   "execution_count": 17,
   "id": "c47a6946-c46b-4e33-a260-de3d5ad25ac3",
   "metadata": {},
   "outputs": [],
   "source": [
    "cv2.imshow('HSV',bgr2hsv)\n",
    "\n",
    "hsv2rgb = cv2.cvtColor(bgr2hsv,cv2.COLOR_HSV2RGB)\n",
    "cv2.imshow('HSVtoRGB',hsv2rgb)\n",
    "\n",
    "hsv2bgr = cv2.cvtColor(bgr2hsv,cv2.COLOR_HSV2BGR)\n",
    "cv2.imshow('HSVtoBGR',hsv2bgr)\n",
    "\n",
    "cv2.imwrite('HSVtoRGB.png',hsv2rgb)\n",
    "cv2.imwrite('HSVtoBGR.png',hsv2bgr)\n",
    "\n",
    "cv2.waitKey(0)\n",
    "cv2.destroyAllWindows()"
   ]
  },
  {
   "cell_type": "code",
   "execution_count": 18,
   "id": "b4fc852c-010f-4656-9ca5-a3758f4fa822",
   "metadata": {},
   "outputs": [],
   "source": [
    "cv2.imshow('RGB',img_rgb)\n",
    "\n",
    "rgb2YcrCb = cv2.cvtColor(img_rgb,cv2.COLOR_RGB2YCrCb)\n",
    "cv2.imshow('RGBtoYCrCb',rgb2YcrCb)\n",
    "\n",
    "bgr2YcrCb = cv2.cvtColor(img,cv2.COLOR_HSV2BGR)\n",
    "cv2.imshow('BGRtoYCrCb',bgr2YcrCb)\n",
    "\n",
    "cv2.imwrite('RGBtoYCrCb.png',rgb2YcrCb)\n",
    "cv2.imwrite('BGRtoYCrCb.png',bgr2YcrCb)\n",
    "\n",
    "cv2.waitKey(0)\n",
    "cv2.destroyAllWindows()"
   ]
  },
  {
   "cell_type": "code",
   "execution_count": 20,
   "id": "c8f2135f-fa5c-441e-9341-ba7e510a4401",
   "metadata": {},
   "outputs": [],
   "source": [
    "b,g,r = cv2.split(img)\n",
    "cv2.imshow(\"RED MODEL\", r)\n",
    "cv2.imshow(\"GREEN MODEL\", g)\n",
    "cv2.imshow(\"BLUE MODEL \", b)\n",
    "\n",
    "cv2.imwrite(\"RED_RGB.png\", r)\n",
    "cv2.imwrite(\"GREEN_RGB.png\", g)\n",
    "cv2.imwrite(\"BLUE_RGB.png \", b)\n",
    "\n",
    "merger = cv2.merge([b,g,r])\n",
    "cv2.imshow(\"MERGED IMAGE\", merger)\n",
    "cv2.imwrite(\"MERGED_RGB.png \", merger)\n",
    "cv2.waitKey(0)\n",
    "cv2.destroyAllWindows()"
   ]
  },
  {
   "cell_type": "code",
   "execution_count": 2,
   "id": "dc846b02-dc02-4ce9-867e-17fb65b4931c",
   "metadata": {},
   "outputs": [],
   "source": [
    "img = cv2.imread('Mikasa.jpeg')\n",
    "bgr2hsv = cv2.cvtColor(img,cv2.COLOR_BGR2HSV)\n",
    "\n",
    "cv2.imshow(\"INITIAL_HSV \", bgr2hsv)\n",
    "\n",
    "h,s,v = cv2.split(bgr2hsv)\n",
    "cv2.imshow(\"RED MODEL\", h)\n",
    "cv2.imshow(\"GREEN MODEL\", s)\n",
    "cv2.imshow(\"BLUE MODEL \", v)\n",
    "\n",
    "cv2.imwrite(\"RED_HSV.png\", h)\n",
    "cv2.imwrite(\"GREEN_HSV.png\", s)\n",
    "cv2.imwrite(\"BLUE_HSV.png\", v)\n",
    "\n",
    "merger = cv2.merge([h,s,v])\n",
    "cv2.imshow(\"MERGED IMAGE\", merger)\n",
    "cv2.imwrite(\"MERGED_HSV.png\", merger)\n",
    "\n",
    "cv2.waitKey(0)\n",
    "cv2.destroyAllWindows()"
   ]
  },
  {
   "cell_type": "code",
   "execution_count": null,
   "id": "747124b1-26c5-4cc9-a6eb-9d7bc04c88be",
   "metadata": {},
   "outputs": [],
   "source": []
  }
 ],
 "metadata": {
  "kernelspec": {
   "display_name": "Python 3 (ipykernel)",
   "language": "python",
   "name": "python3"
  },
  "language_info": {
   "codemirror_mode": {
    "name": "ipython",
    "version": 3
   },
   "file_extension": ".py",
   "mimetype": "text/x-python",
   "name": "python",
   "nbconvert_exporter": "python",
   "pygments_lexer": "ipython3",
   "version": "3.9.13"
  }
 },
 "nbformat": 4,
 "nbformat_minor": 5
}
