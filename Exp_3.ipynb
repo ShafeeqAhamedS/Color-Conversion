{
 "cells": [
  {
   "cell_type": "code",
   "execution_count": 2,
   "id": "181fa151-068f-40d3-9722-0271f09d7390",
   "metadata": {},
   "outputs": [],
   "source": [
    "import cv2"
   ]
  },
  {
   "cell_type": "code",
   "execution_count": 6,
   "id": "6874e9fb-cd4b-4d21-8aa1-72205a3d3ea0",
   "metadata": {},
   "outputs": [],
   "source": [
    "img = cv2.imread(\"Mikasa.png\",1)\n",
    "\n",
    "cv2.imshow(\"Original\",img)\n",
    "cv2.imwrite(\"1_BGR_Image.png\",img)\n",
    "\n",
    "bgr2hsv = cv2.cvtColor(img,cv2.COLOR_BGR2HSV)\n",
    "cv2.imshow('BGR To HSV',bgr2hsv)\n",
    "cv2.imwrite('1_BGRtoHSV.png',bgr2hsv)\n",
    "\n",
    "bgr2gray = cv2.cvtColor(img,cv2.COLOR_BGR2GRAY)\n",
    "cv2.imshow('BGR To GRAY',bgr2gray)\n",
    "cv2.imwrite('1_BGRtoGRAY.png',bgr2gray)\n",
    "\n",
    "cv2.waitKey(0)\n",
    "cv2.destroyAllWindows()"
   ]
  },
  {
   "cell_type": "code",
   "execution_count": 7,
   "id": "61e5fe21-f66a-49ca-a71e-bca5187650c5",
   "metadata": {},
   "outputs": [],
   "source": [
    "img = cv2.imread(\"Mikasa.png\",1)\n",
    "\n",
    "rgb = cv2.cvtColor(img,cv2.COLOR_BGR2RGB)\n",
    "cv2.imshow(\"Original\",rgb)\n",
    "cv2.imwrite(\"1_RGB_Image.png\",rgb)\n",
    "\n",
    "rgb2hsv = cv2.cvtColor(rgb,cv2.COLOR_RGB2HSV)\n",
    "cv2.imshow('RGB To HSV',rgb2hsv)\n",
    "cv2.imwrite('1_RGBtoHSV.png',rgb2hsv)\n",
    "\n",
    "rgb2gray = cv2.cvtColor(rgb,cv2.COLOR_RGB2GRAY)\n",
    "cv2.imshow('RGB To GRAY',rgb2gray)\n",
    "cv2.imwrite('1_RGBtoGRAY.png',rgb2gray)\n",
    "\n",
    "cv2.waitKey(0)\n",
    "cv2.destroyAllWindows()"
   ]
  },
  {
   "cell_type": "code",
   "execution_count": 9,
   "id": "8a72dd18-e73e-4192-af7d-a1fff9844019",
   "metadata": {},
   "outputs": [],
   "source": [
    "img = cv2.imread(\"Mikasa.png\",1)\n",
    "\n",
    "hsv = cv2.cvtColor(img,cv2.COLOR_BGR2HSV)\n",
    "cv2.imshow('HSV',hsv)\n",
    "cv2.imwrite('2_HSV_Image.png',hsv)\n",
    "\n",
    "hsv2bgr = cv2.cvtColor(hsv,cv2.COLOR_HSV2BGR)\n",
    "cv2.imshow('HSVtoBGR',hsv2bgr)\n",
    "cv2.imwrite('2_HSVtoBGR.png',hsv2bgr)\n",
    "\n",
    "hsv2rgb = cv2.cvtColor(hsv,cv2.COLOR_HSV2RGB)\n",
    "cv2.imshow('HSVtoRGB',hsv2rgb)\n",
    "cv2.imwrite('2_HSVtoRGB.png',hsv2rgb)\n",
    "\n",
    "cv2.waitKey(0)\n",
    "cv2.destroyAllWindows()"
   ]
  },
  {
   "cell_type": "code",
   "execution_count": 3,
   "id": "7a9b4376-78ce-4458-b436-26e58b0288be",
   "metadata": {},
   "outputs": [],
   "source": [
    "img = cv2.imread(\"Mikasa.png\",1)\n",
    "\n",
    "cv2.imshow('BGR Image',img)\n",
    "cv2.imwrite('3_BGR_Image.png',img)\n",
    "\n",
    "bgr2YcrCb = cv2.cvtColor(img,cv2.COLOR_BGR2YCrCb)\n",
    "cv2.imshow('BGRtoYCrCb',bgr2YcrCb)\n",
    "cv2.imwrite('3_BGRtoYCrCb.png',bgr2YcrCb)\n",
    "\n",
    "cv2.waitKey(0)\n",
    "cv2.destroyAllWindows()"
   ]
  },
  {
   "cell_type": "code",
   "execution_count": 6,
   "id": "9a4be765-45b6-400f-a1eb-a51ba00a8fb4",
   "metadata": {},
   "outputs": [],
   "source": [
    "img = cv2.imread(\"Mikasa.png\",1)\n",
    "\n",
    "rgb = cv2.cvtColor(img,cv2.COLOR_BGR2RGB)\n",
    "cv2.imshow('RGB Image',rgb)\n",
    "cv2.imwrite('3_RGB_Image.png',rgb)\n",
    "\n",
    "rgb2YcrCb = cv2.cvtColor(rgb,cv2.COLOR_RGB2YCrCb)\n",
    "cv2.imshow('RGBtoYCrCb',rgb2YcrCb)\n",
    "cv2.imwrite('3_RGBtoYCrCb.png',rgb2YcrCb)\n",
    "\n",
    "cv2.waitKey(0)\n",
    "cv2.destroyAllWindows()"
   ]
  },
  {
   "cell_type": "code",
   "execution_count": 7,
   "id": "f97fe9de-f356-43de-b165-ff9cbface566",
   "metadata": {},
   "outputs": [],
   "source": [
    "img = cv2.imread(\"Mikasa.png\",1)\n",
    "\n",
    "rgb = cv2.cvtColor(img,cv2.COLOR_BGR2RGB)\n",
    "\n",
    "r,g,b = cv2.split(img)\n",
    "\n",
    "cv2.imshow(\"RED MODEL\", r)\n",
    "cv2.imshow(\"GREEN MODEL\", g)\n",
    "cv2.imshow(\"BLUE MODEL \", b)\n",
    "\n",
    "cv2.imwrite(\"4_RED_RGB.png\", r)\n",
    "cv2.imwrite(\"4_GREEN_RGB.png\", g)\n",
    "cv2.imwrite(\"4_BLUE_RGB.png \", b)\n",
    "\n",
    "merger = cv2.merge([r,g,b])\n",
    "cv2.imshow(\"MERGED IMAGE\", merger)\n",
    "cv2.imwrite(\"4_MERGED_RGB.png \", merger)\n",
    "\n",
    "cv2.waitKey(0)\n",
    "cv2.destroyAllWindows()"
   ]
  },
  {
   "cell_type": "code",
   "execution_count": 9,
   "id": "2801ff2f-d3aa-4615-b359-c64a0cf1f30f",
   "metadata": {},
   "outputs": [],
   "source": [
    "img = cv2.imread('Mikasa.png')\n",
    "\n",
    "hsv = cv2.cvtColor(img,cv2.COLOR_BGR2HSV)\n",
    "\n",
    "h,s,v = cv2.split(hsv)\n",
    "cv2.imshow(\"HUE\", h)\n",
    "cv2.imshow(\"SATURATION\", s)\n",
    "cv2.imshow(\"VALUE\", v)\n",
    "\n",
    "cv2.imwrite(\"5_HUE.png\", h)\n",
    "cv2.imwrite(\"5_SATURATION.png\", s)\n",
    "cv2.imwrite(\"5_VALUE.png\", v)\n",
    "\n",
    "merger = cv2.merge([h,s,v])\n",
    "cv2.imshow(\"MERGED IMAGE\", merger)\n",
    "cv2.imwrite(\"5_MERGED_HSV.png\", merger)\n",
    "\n",
    "cv2.waitKey(0)\n",
    "cv2.destroyAllWindows()"
   ]
  },
  {
   "cell_type": "code",
   "execution_count": null,
   "id": "ca2742ae-440e-4545-b5c5-10aad8a4bf4b",
   "metadata": {},
   "outputs": [],
   "source": []
  }
 ],
 "metadata": {
  "kernelspec": {
   "display_name": "Python 3 (ipykernel)",
   "language": "python",
   "name": "python3"
  },
  "language_info": {
   "codemirror_mode": {
    "name": "ipython",
    "version": 3
   },
   "file_extension": ".py",
   "mimetype": "text/x-python",
   "name": "python",
   "nbconvert_exporter": "python",
   "pygments_lexer": "ipython3",
   "version": "3.9.13"
  }
 },
 "nbformat": 4,
 "nbformat_minor": 5
}
