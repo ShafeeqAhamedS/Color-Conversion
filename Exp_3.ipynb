{
 "cells": [
  {
   "cell_type": "code",
   "execution_count": 2,
   "id": "1c9ee801-b8ff-4018-b6c2-3f0c7d2aed7a",
   "metadata": {},
   "outputs": [],
   "source": [
    "import cv2"
   ]
  },
  {
   "cell_type": "code",
   "execution_count": 4,
   "id": "d886e5c8-ff09-464f-bb6c-47c8754e69f5",
   "metadata": {},
   "outputs": [],
   "source": [
    "orgi_img = cv2.imread(\"Mikasa.jpeg\",1)\n",
    "cv2.imshow('sample',orgi_img)\n",
    "cv2.waitKey(0)\n",
    "cv2.destroyAllWindows()"
   ]
  },
  {
   "cell_type": "code",
   "execution_count": 13,
   "id": "7bc9bdda-f67c-4058-805e-f7f543b6b241",
   "metadata": {},
   "outputs": [],
   "source": [
    "rgb_img = cv2.cvtColor(orgi_img,cv2.COLOR_RGB2GRAY)\n",
    "cv2.imshow('Gray',rgb_img)\n",
    "cv2.waitKey(0)\n",
    "cv2.destroyAllWindows()"
   ]
  },
  {
   "cell_type": "code",
   "execution_count": 9,
   "id": "9a01826b-8f77-4f0b-8305-fbe4653eb774",
   "metadata": {},
   "outputs": [],
   "source": [
    "hsv_img = cv2.cvtColor(orgi_img,cv2.COLOR_BGR2HSV)\n",
    "cv2.imshow('HSV',hsv_img)\n",
    "cv2.waitKey(0)\n",
    "cv2.destroyAllWindows()"
   ]
  },
  {
   "cell_type": "code",
   "execution_count": 12,
   "id": "763b6608-1ed0-410f-ba35-0254df7bea53",
   "metadata": {},
   "outputs": [],
   "source": [
    "rgb_img = cv2.cvtColor(orgi_img,cv2.COLOR_HSV2RGB)\n",
    "cv2.imshow('RGB',rgb_img)\n",
    "cv2.waitKey(0)\n",
    "cv2.destroyAllWindows()"
   ]
  },
  {
   "cell_type": "code",
   "execution_count": 11,
   "id": "ebf2b6df-61ee-436d-b19d-52d962d63bf3",
   "metadata": {},
   "outputs": [],
   "source": [
    "bgr_img = cv2.cvtColor(orgi_img,cv2.COLOR_HSV2BGR)\n",
    "cv2.imshow('BGR',bgr_img)\n",
    "cv2.waitKey(0)\n",
    "cv2.destroyAllWindows()"
   ]
  },
  {
   "cell_type": "code",
   "execution_count": 15,
   "id": "99f90596-7ee5-4f49-8280-216f8280f830",
   "metadata": {},
   "outputs": [],
   "source": [
    "YCrCb_rgb = cv2.cvtColor(orgi_img, cv2.COLOR_RGB2YCrCb)\n",
    "cv2.imshow('YCrCb from RGB',bgr_img)\n",
    "cv2.waitKey(0)\n",
    "cv2.destroyAllWindows()"
   ]
  },
  {
   "cell_type": "code",
   "execution_count": 16,
   "id": "c82d2659-22f0-436d-9045-6144b5b43c9e",
   "metadata": {},
   "outputs": [],
   "source": [
    "YCrCb_bgr = cv2.cvtColor(orgi_img, cv2.COLOR_BGR2YCrCb)\n",
    "cv2.imshow('YCrCb from BGR',bgr_img)\n",
    "cv2.waitKey(0)\n",
    "cv2.destroyAllWindows()"
   ]
  },
  {
   "cell_type": "code",
   "execution_count": null,
   "id": "141aee87-145d-4779-9ddc-08e0fbce5c0e",
   "metadata": {},
   "outputs": [],
   "source": []
  }
 ],
 "metadata": {
  "kernelspec": {
   "display_name": "Python 3 (ipykernel)",
   "language": "python",
   "name": "python3"
  },
  "language_info": {
   "codemirror_mode": {
    "name": "ipython",
    "version": 3
   },
   "file_extension": ".py",
   "mimetype": "text/x-python",
   "name": "python",
   "nbconvert_exporter": "python",
   "pygments_lexer": "ipython3",
   "version": "3.9.13"
  }
 },
 "nbformat": 4,
 "nbformat_minor": 5
}
